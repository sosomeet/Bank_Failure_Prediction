{
 "cells": [
  {
   "cell_type": "code",
   "execution_count": 1,
   "id": "e41b31e9",
   "metadata": {},
   "outputs": [
    {
     "name": "stdout",
     "output_type": "stream",
     "text": [
      "   Unnamed: 0  leverage_ratio  asset_liabilities    roe  asset_turnover  \\\n",
      "0           1          14.933           1.067048  0.107           0.081   \n",
      "1           2          14.734           1.067941  0.117           0.085   \n",
      "2           3          15.294           1.065449  0.137           0.085   \n",
      "3           4          13.652           1.072060  0.167           0.097   \n",
      "4           5          13.390           1.071841  0.151           0.106   \n",
      "\n",
      "   debt_ratio  debt_ratio2    roa  capitalization_ratio  longtermdebt_invcap  \\\n",
      "0       0.937        0.043  0.018                 0.244                0.244   \n",
      "1       0.936        0.041  0.020                 0.230                0.230   \n",
      "2       0.939        0.049  0.021                 0.317                0.317   \n",
      "3       0.932        0.070  0.025                 0.272                0.298   \n",
      "4       0.930        0.071  0.023                 0.244                0.264   \n",
      "\n",
      "   totaldebt_invcap  cash_debt  debt_ebitda  rect_turn  label  \n",
      "0             0.513     -0.020        2.418      0.154      0  \n",
      "1             0.498     -0.006        2.093      0.159      0  \n",
      "2             0.542      0.036        2.525      0.152      0  \n",
      "3             0.819     -0.020        2.957      0.163      0  \n",
      "4             0.834      0.063        3.170      0.186      0  \n"
     ]
    }
   ],
   "source": [
    "import pandas as pd\n",
    "from sklearn.linear_model import LinearRegression\n",
    "from sklearn.model_selection import train_test_split\n",
    "from sklearn.metrics import mean_squared_error, r2_score\n",
    "\n",
    "# 데이터 준비\n",
    "# 상대경로로 CSV 읽어오기\n",
    "file_path = '../../training_data.csv'\n",
    "\n",
    "# CSV 파일 읽기\n",
    "df = pd.read_csv(file_path)\n",
    "\n",
    "# 데이터 확인\n",
    "print(df.head())"
   ]
  },
  {
   "cell_type": "code",
   "execution_count": null,
   "id": "302e87e2",
   "metadata": {},
   "outputs": [],
   "source": []
  }
 ],
 "metadata": {
  "kernelspec": {
   "display_name": "Python 3",
   "language": "python",
   "name": "python3"
  },
  "language_info": {
   "codemirror_mode": {
    "name": "ipython",
    "version": 3
   },
   "file_extension": ".py",
   "mimetype": "text/x-python",
   "name": "python",
   "nbconvert_exporter": "python",
   "pygments_lexer": "ipython3",
   "version": "3.9.1"
  }
 },
 "nbformat": 4,
 "nbformat_minor": 5
}
